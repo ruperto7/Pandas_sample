{
 "cells": [
  {
   "cell_type": "markdown",
   "metadata": {},
   "source": [
    "You are currently using **version 1.5** notebook .  \n",
    "The next cell imports Pandas package\n",
    "then assigns the read DataFrame into variable df"
   ]
  },
  {
   "cell_type": "code",
   "execution_count": 5,
   "metadata": {},
   "outputs": [
    {
     "data": {
      "text/html": [
       "<div>\n",
       "<style scoped>\n",
       "    .dataframe tbody tr th:only-of-type {\n",
       "        vertical-align: middle;\n",
       "    }\n",
       "\n",
       "    .dataframe tbody tr th {\n",
       "        vertical-align: top;\n",
       "    }\n",
       "\n",
       "    .dataframe thead th {\n",
       "        text-align: right;\n",
       "    }\n",
       "</style>\n",
       "<table border=\"1\" class=\"dataframe\">\n",
       "  <thead>\n",
       "    <tr style=\"text-align: right;\">\n",
       "      <th></th>\n",
       "      <th>Retailer country</th>\n",
       "      <th>Order method type</th>\n",
       "      <th>Retailer type</th>\n",
       "      <th>Product line</th>\n",
       "      <th>Product type</th>\n",
       "      <th>Product</th>\n",
       "      <th>Year</th>\n",
       "      <th>Quarter</th>\n",
       "      <th>Revenue</th>\n",
       "      <th>Quantity</th>\n",
       "      <th>Gross margin</th>\n",
       "    </tr>\n",
       "  </thead>\n",
       "  <tbody>\n",
       "    <tr>\n",
       "      <th>0</th>\n",
       "      <td>United States</td>\n",
       "      <td>Fax</td>\n",
       "      <td>Outdoors Shop</td>\n",
       "      <td>Camping Equipment</td>\n",
       "      <td>Cooking Gear</td>\n",
       "      <td>TrailChef Deluxe Cook Set</td>\n",
       "      <td>2012</td>\n",
       "      <td>Q1 2012</td>\n",
       "      <td>59628.66</td>\n",
       "      <td>489</td>\n",
       "      <td>0.347548</td>\n",
       "    </tr>\n",
       "    <tr>\n",
       "      <th>1</th>\n",
       "      <td>United States</td>\n",
       "      <td>Fax</td>\n",
       "      <td>Outdoors Shop</td>\n",
       "      <td>Camping Equipment</td>\n",
       "      <td>Cooking Gear</td>\n",
       "      <td>TrailChef Double Flame</td>\n",
       "      <td>2012</td>\n",
       "      <td>Q1 2012</td>\n",
       "      <td>35950.32</td>\n",
       "      <td>252</td>\n",
       "      <td>0.474274</td>\n",
       "    </tr>\n",
       "    <tr>\n",
       "      <th>2</th>\n",
       "      <td>United States</td>\n",
       "      <td>Fax</td>\n",
       "      <td>Outdoors Shop</td>\n",
       "      <td>Camping Equipment</td>\n",
       "      <td>Tents</td>\n",
       "      <td>Star Dome</td>\n",
       "      <td>2012</td>\n",
       "      <td>Q1 2012</td>\n",
       "      <td>89940.48</td>\n",
       "      <td>147</td>\n",
       "      <td>0.352772</td>\n",
       "    </tr>\n",
       "    <tr>\n",
       "      <th>3</th>\n",
       "      <td>United States</td>\n",
       "      <td>Fax</td>\n",
       "      <td>Outdoors Shop</td>\n",
       "      <td>Camping Equipment</td>\n",
       "      <td>Tents</td>\n",
       "      <td>Star Gazer 2</td>\n",
       "      <td>2012</td>\n",
       "      <td>Q1 2012</td>\n",
       "      <td>165883.41</td>\n",
       "      <td>303</td>\n",
       "      <td>0.282938</td>\n",
       "    </tr>\n",
       "    <tr>\n",
       "      <th>4</th>\n",
       "      <td>United States</td>\n",
       "      <td>Fax</td>\n",
       "      <td>Outdoors Shop</td>\n",
       "      <td>Camping Equipment</td>\n",
       "      <td>Sleeping Bags</td>\n",
       "      <td>Hibernator Lite</td>\n",
       "      <td>2012</td>\n",
       "      <td>Q1 2012</td>\n",
       "      <td>119822.20</td>\n",
       "      <td>1415</td>\n",
       "      <td>0.291450</td>\n",
       "    </tr>\n",
       "  </tbody>\n",
       "</table>\n",
       "</div>"
      ],
      "text/plain": [
       "  Retailer country Order method type  Retailer type       Product line  \\\n",
       "0    United States               Fax  Outdoors Shop  Camping Equipment   \n",
       "1    United States               Fax  Outdoors Shop  Camping Equipment   \n",
       "2    United States               Fax  Outdoors Shop  Camping Equipment   \n",
       "3    United States               Fax  Outdoors Shop  Camping Equipment   \n",
       "4    United States               Fax  Outdoors Shop  Camping Equipment   \n",
       "\n",
       "    Product type                    Product  Year  Quarter    Revenue  \\\n",
       "0   Cooking Gear  TrailChef Deluxe Cook Set  2012  Q1 2012   59628.66   \n",
       "1   Cooking Gear     TrailChef Double Flame  2012  Q1 2012   35950.32   \n",
       "2          Tents                  Star Dome  2012  Q1 2012   89940.48   \n",
       "3          Tents               Star Gazer 2  2012  Q1 2012  165883.41   \n",
       "4  Sleeping Bags            Hibernator Lite  2012  Q1 2012  119822.20   \n",
       "\n",
       "   Quantity  Gross margin  \n",
       "0       489      0.347548  \n",
       "1       252      0.474274  \n",
       "2       147      0.352772  \n",
       "3       303      0.282938  \n",
       "4      1415      0.291450  "
      ]
     },
     "execution_count": 5,
     "metadata": {},
     "output_type": "execute_result"
    }
   ],
   "source": [
    "import pandas as pd\n",
    "\n",
    "df=pd.read_csv(\"WA_Sales_Products_2012-14.csv\") # opens the csv file and assigns it to a DataFrame df\n",
    "                #data is from https://community.watsonanalytics.com/wp-content/uploads/2015/08/WA_Sales_Products_2012-14.csv\n",
    "df.head() #returns the first five rows\n",
    "\n"
   ]
  },
  {
   "cell_type": "markdown",
   "metadata": {},
   "source": [
    "What are the column labels of this data ?"
   ]
  },
  {
   "cell_type": "code",
   "execution_count": 6,
   "metadata": {},
   "outputs": [
    {
     "data": {
      "text/plain": [
       "Index(['Retailer country', 'Order method type', 'Retailer type',\n",
       "       'Product line', 'Product type', 'Product', 'Year', 'Quarter', 'Revenue',\n",
       "       'Quantity', 'Gross margin'],\n",
       "      dtype='object')"
      ]
     },
     "execution_count": 6,
     "metadata": {},
     "output_type": "execute_result"
    }
   ],
   "source": [
    "df.columns\n",
    "\n"
   ]
  },
  {
   "cell_type": "markdown",
   "metadata": {},
   "source": [
    "How many rows and columns are used ?"
   ]
  },
  {
   "cell_type": "code",
   "execution_count": 3,
   "metadata": {},
   "outputs": [
    {
     "data": {
      "text/plain": [
       "(88475, 11)"
      ]
     },
     "execution_count": 3,
     "metadata": {},
     "output_type": "execute_result"
    }
   ],
   "source": [
    "df.shape #returns the rows and columns count\n",
    "\n"
   ]
  },
  {
   "cell_type": "markdown",
   "metadata": {},
   "source": [
    "What is the current index what type of variable is it?"
   ]
  },
  {
   "cell_type": "code",
   "execution_count": 8,
   "metadata": {},
   "outputs": [
    {
     "data": {
      "text/plain": [
       "RangeIndex(start=0, stop=88475, step=1)"
      ]
     },
     "execution_count": 8,
     "metadata": {},
     "output_type": "execute_result"
    }
   ],
   "source": [
    "df.index #the index is an object that contains 0...to...88474\n",
    "\n"
   ]
  },
  {
   "cell_type": "code",
   "execution_count": 9,
   "metadata": {},
   "outputs": [
    {
     "data": {
      "text/plain": [
       "pandas.core.indexes.range.RangeIndex"
      ]
     },
     "execution_count": 9,
     "metadata": {},
     "output_type": "execute_result"
    }
   ],
   "source": [
    "type(df.index) #it is a class pandas.core.indexes.range.RangeIndex\n",
    "\n"
   ]
  },
  {
   "cell_type": "markdown",
   "metadata": {},
   "source": [
    "Of the 88475 rows, what is the total quantity of products on this file ?"
   ]
  },
  {
   "cell_type": "code",
   "execution_count": 54,
   "metadata": {},
   "outputs": [
    {
     "data": {
      "text/plain": [
       "69062361"
      ]
     },
     "execution_count": 54,
     "metadata": {},
     "output_type": "execute_result"
    }
   ],
   "source": [
    "df['Quantity'].sum()\n",
    "\n"
   ]
  },
  {
   "cell_type": "markdown",
   "metadata": {},
   "source": [
    "Of the 69,062,361 total quantity, what is the breakdown per country ?"
   ]
  },
  {
   "cell_type": "code",
   "execution_count": 57,
   "metadata": {},
   "outputs": [
    {
     "data": {
      "text/plain": [
       "Retailer country\n",
       "Australia          2000781\n",
       "Austria            2102206\n",
       "Belgium            1799021\n",
       "Brazil             1957452\n",
       "Canada             4419144\n",
       "China              4596986\n",
       "Denmark             962099\n",
       "Finland            2786800\n",
       "France             4044378\n",
       "Germany            3733677\n",
       "Italy              2852400\n",
       "Japan              5137596\n",
       "Korea              2932353\n",
       "Mexico             2547117\n",
       "Netherlands        2687404\n",
       "Singapore          2849009\n",
       "Spain              2527950\n",
       "Sweden             1403596\n",
       "Switzerland        1822191\n",
       "United Kingdom     4050932\n",
       "United States     11849269\n",
       "Name: Quantity, dtype: int64"
      ]
     },
     "execution_count": 57,
     "metadata": {},
     "output_type": "execute_result"
    }
   ],
   "source": [
    "df.groupby(['Retailer country'])['Quantity'].sum()\n",
    "\n"
   ]
  },
  {
   "cell_type": "markdown",
   "metadata": {},
   "source": [
    "Of the 69,062,361 total quantity, what is the breakdown per Quarter ?"
   ]
  },
  {
   "cell_type": "code",
   "execution_count": 58,
   "metadata": {},
   "outputs": [
    {
     "data": {
      "text/plain": [
       "Year  Quarter\n",
       "2012  Q1 2012    6258427\n",
       "      Q2 2012    5579643\n",
       "      Q3 2012    5556853\n",
       "      Q4 2012    6129762\n",
       "2013  Q1 2013    6094787\n",
       "      Q2 2013    6783135\n",
       "      Q3 2013    6467989\n",
       "      Q4 2013    6595879\n",
       "2014  Q1 2014    8382882\n",
       "      Q2 2014    8344594\n",
       "      Q3 2014    2868410\n",
       "Name: Quantity, dtype: int64"
      ]
     },
     "execution_count": 58,
     "metadata": {},
     "output_type": "execute_result"
    }
   ],
   "source": [
    "df.groupby(['Year', 'Quarter'])['Quantity'].sum()\n",
    "\n"
   ]
  },
  {
   "cell_type": "markdown",
   "metadata": {},
   "source": [
    "What are the total quatities by Country, by Year and by Quarter ?"
   ]
  },
  {
   "cell_type": "code",
   "execution_count": 51,
   "metadata": {},
   "outputs": [
    {
     "data": {
      "text/plain": [
       "Retailer country  Year  Quarter\n",
       "Australia         2012  Q1 2012     136096\n",
       "                        Q2 2012     121604\n",
       "                        Q3 2012     120750\n",
       "                        Q4 2012     143736\n",
       "                  2013  Q1 2013     189677\n",
       "                        Q2 2013     223759\n",
       "                        Q3 2013     217266\n",
       "                        Q4 2013     209048\n",
       "                  2014  Q1 2014     275275\n",
       "                        Q2 2014     267777\n",
       "                        Q3 2014      95793\n",
       "Austria           2012  Q1 2012     186218\n",
       "                        Q2 2012     166415\n",
       "                        Q3 2012     172302\n",
       "                        Q4 2012     177199\n",
       "                  2013  Q1 2013     212131\n",
       "                        Q2 2013     194371\n",
       "                        Q3 2013     185057\n",
       "                        Q4 2013     212212\n",
       "                  2014  Q1 2014     243716\n",
       "                        Q2 2014     262506\n",
       "                        Q3 2014      90079\n",
       "Belgium           2012  Q1 2012     172042\n",
       "                        Q2 2012     146375\n",
       "                        Q3 2012     148251\n",
       "                        Q4 2012     169026\n",
       "                  2013  Q1 2013     149421\n",
       "                        Q2 2013     183560\n",
       "                        Q3 2013     167704\n",
       "                        Q4 2013     161472\n",
       "                                    ...   \n",
       "Switzerland       2012  Q4 2012     137581\n",
       "                  2013  Q1 2013     158689\n",
       "                        Q2 2013     187633\n",
       "                        Q3 2013     189483\n",
       "                        Q4 2013     181304\n",
       "                  2014  Q1 2014     237164\n",
       "                        Q2 2014     249740\n",
       "                        Q3 2014      89692\n",
       "United Kingdom    2012  Q1 2012     364621\n",
       "                        Q2 2012     359098\n",
       "                        Q3 2012     359595\n",
       "                        Q4 2012     348082\n",
       "                  2013  Q1 2013     381097\n",
       "                        Q2 2013     371651\n",
       "                        Q3 2013     352541\n",
       "                        Q4 2013     386966\n",
       "                  2014  Q1 2014     480221\n",
       "                        Q2 2014     486171\n",
       "                        Q3 2014     160889\n",
       "United States     2012  Q1 2012    1059753\n",
       "                        Q2 2012     948151\n",
       "                        Q3 2012     963508\n",
       "                        Q4 2012    1070328\n",
       "                  2013  Q1 2013    1005906\n",
       "                        Q2 2013    1187813\n",
       "                        Q3 2013    1139294\n",
       "                        Q4 2013    1125874\n",
       "                  2014  Q1 2014    1442979\n",
       "                        Q2 2014    1421104\n",
       "                        Q3 2014     484559\n",
       "Name: Quantity, Length: 231, dtype: int64"
      ]
     },
     "execution_count": 51,
     "metadata": {},
     "output_type": "execute_result"
    }
   ],
   "source": [
    "df.set_index(['Retailer country','Year','Quarter' ] ).groupby(['Retailer country','Year','Quarter' ])['Quantity'].sum()\n",
    "\n"
   ]
  },
  {
   "cell_type": "markdown",
   "metadata": {},
   "source": [
    "The above examples show some of Pandas features used in extracting summaries formats and figures given so many details as in a medium-sized table.  \n",
    "\n"
   ]
  }
 ],
 "metadata": {
  "anaconda-cloud": {},
  "coursera": {
   "course_slug": "python-data-analysis",
   "graded_item_id": "zAr06",
   "launcher_item_id": "KSSjT",
   "part_id": "SL3fU"
  },
  "kernelspec": {
   "display_name": "Python 3",
   "language": "python",
   "name": "python3"
  },
  "language_info": {
   "codemirror_mode": {
    "name": "ipython",
    "version": 3
   },
   "file_extension": ".py",
   "mimetype": "text/x-python",
   "name": "python",
   "nbconvert_exporter": "python",
   "pygments_lexer": "ipython3",
   "version": "3.6.5"
  },
  "umich": {
   "id": "Assignment 3",
   "version": "1.5"
  }
 },
 "nbformat": 4,
 "nbformat_minor": 1
}
